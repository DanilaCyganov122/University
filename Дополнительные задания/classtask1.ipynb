{
  "nbformat": 4,
  "nbformat_minor": 0,
  "metadata": {
    "colab": {
      "provenance": [],
      "authorship_tag": "ABX9TyOaHgpDjX/yEU8Ayg9UPgca",
      "include_colab_link": true
    },
    "kernelspec": {
      "name": "python3",
      "display_name": "Python 3"
    },
    "language_info": {
      "name": "python"
    }
  },
  "cells": [
    {
      "cell_type": "markdown",
      "metadata": {
        "id": "view-in-github",
        "colab_type": "text"
      },
      "source": [
        "<a href=\"https://colab.research.google.com/github/DanilaCyganov122/University/blob/main/%D0%94%D0%BE%D0%BF%D0%BE%D0%BB%D0%BD%D0%B8%D1%82%D0%B5%D0%BB%D1%8C%D0%BD%D1%8B%D0%B5%20%D0%B7%D0%B0%D0%B4%D0%B0%D0%BD%D0%B8%D1%8F/classtask1.ipynb\" target=\"_parent\"><img src=\"https://colab.research.google.com/assets/colab-badge.svg\" alt=\"Open In Colab\"/></a>"
      ]
    },
    {
      "cell_type": "code",
      "execution_count": 25,
      "metadata": {
        "colab": {
          "base_uri": "https://localhost:8080/"
        },
        "id": "AQ9TyLZtAJaC",
        "outputId": "b74cb14c-243e-4cd5-e45c-07e5171ec4cd"
      },
      "outputs": [
        {
          "output_type": "stream",
          "name": "stdout",
          "text": [
            "Введите число\n",
            "10\n",
            "Ваше число больше загаданного\n",
            "Введите число\n",
            "20\n",
            "Ваше число больше загаданного\n",
            "Введите число\n",
            "5\n",
            "Ваше число меньше загаданного\n",
            "Введите число\n",
            "6\n",
            "Вы угадали число!\n",
            "Количество попыток 4\n"
          ]
        }
      ],
      "source": [
        "import random\n",
        "a = random.randint(0, 100)\n",
        "att = 1\n",
        "number = input('Введите число\\n')\n",
        "while(number != \"Выход\") and (a != int(number)):\n",
        "    if (int(number) < a):\n",
        "        print('Ваше число меньше загаданного')\n",
        "    if (int(number) > a):\n",
        "        print('Ваше число больше загаданного')\n",
        "    att += 1\n",
        "    number = input('Введите число\\n')\n",
        "if number == 'Выход':\n",
        "    print('Вы вышли из игры')\n",
        "else:\n",
        "      print('Вы угадали число!\\nКоличество попыток', att)"
      ]
    }
  ]
}