{
  "nbformat": 4,
  "nbformat_minor": 0,
  "metadata": {
    "colab": {
      "provenance": [],
      "toc_visible": true,
      "authorship_tag": "ABX9TyNRzXAFih+zAtrxafy7G/rb",
      "include_colab_link": true
    },
    "kernelspec": {
      "name": "python3",
      "display_name": "Python 3"
    },
    "language_info": {
      "name": "python"
    }
  },
  "cells": [
    {
      "cell_type": "markdown",
      "metadata": {
        "id": "view-in-github",
        "colab_type": "text"
      },
      "source": [
        "<a href=\"https://colab.research.google.com/github/DanilaCyganov122/University/blob/main/Tasks/module1/task2.ipynb\" target=\"_parent\"><img src=\"https://colab.research.google.com/assets/colab-badge.svg\" alt=\"Open In Colab\"/></a>"
      ]
    },
    {
      "cell_type": "code",
      "execution_count": 10,
      "metadata": {
        "id": "Pp5Fztd5seJL",
        "colab": {
          "base_uri": "https://localhost:8080/"
        },
        "outputId": "9025d0a6-e9fa-43c8-faea-c7883a8b0ded"
      },
      "outputs": [
        {
          "output_type": "stream",
          "name": "stdout",
          "text": [
            "Введите основание и высоту прямоугольного треугольника:\n",
            "4\n",
            "8\n",
            "площадь треугольника равна  16.0\n"
          ]
        }
      ],
      "source": [
        "a = float(input('Введите основание и высоту прямоугольного треугольника:\\n'))\n",
        "b = float(input())\n",
        "c = a*b/2\n",
        "print('площадь треугольника равна ', c )"
      ]
    },
    {
      "cell_type": "markdown",
      "source": [
        "# Новый раздел"
      ],
      "metadata": {
        "id": "AiZg_2Eut9Lm"
      }
    }
  ]
}