{
  "cells": [
    {
      "cell_type": "markdown",
      "metadata": {
        "id": "view-in-github",
        "colab_type": "text"
      },
      "source": [
        "<a href=\"https://colab.research.google.com/github/DanilaCyganov122/University/blob/main/Tasks/module1/task1.ipynb\" target=\"_parent\"><img src=\"https://colab.research.google.com/assets/colab-badge.svg\" alt=\"Open In Colab\"/></a>"
      ]
    },
    {
      "cell_type": "code",
      "execution_count": 12,
      "metadata": {
        "colab": {
          "base_uri": "https://localhost:8080/"
        },
        "id": "tN9o63oxluUW",
        "outputId": "3d899445-cafd-4c68-a702-3d5ac68bb444"
      },
      "outputs": [
        {
          "output_type": "stream",
          "name": "stdout",
          "text": [
            "Введите три числа:\n",
            "1\n",
            "2\n",
            "3\n",
            "сумма этих чисел равна:  6\n"
          ]
        }
      ],
      "source": [
        "print('Введите три числа:')\n",
        "a = input()\n",
        "b = input()\n",
        "c = input()\n",
        "print(\"сумма этих чисел равна: \", int(a)+int(b)+int(c))\n"
      ]
    }
  ],
  "metadata": {
    "colab": {
      "provenance": [],
      "authorship_tag": "ABX9TyNdKIYf3GUz/Om0L7UyRI7H",
      "include_colab_link": true
    },
    "kernelspec": {
      "display_name": "Python 3",
      "name": "python3"
    },
    "language_info": {
      "name": "python"
    }
  },
  "nbformat": 4,
  "nbformat_minor": 0
}