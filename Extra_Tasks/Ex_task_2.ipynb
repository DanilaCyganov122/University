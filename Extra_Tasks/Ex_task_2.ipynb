{
  "nbformat": 4,
  "nbformat_minor": 0,
  "metadata": {
    "colab": {
      "provenance": [],
      "authorship_tag": "ABX9TyNxvtFsofqVRqYnXT9OVHy+",
      "include_colab_link": true
    },
    "kernelspec": {
      "name": "python3",
      "display_name": "Python 3"
    },
    "language_info": {
      "name": "python"
    }
  },
  "cells": [
    {
      "cell_type": "markdown",
      "metadata": {
        "id": "view-in-github",
        "colab_type": "text"
      },
      "source": [
        "<a href=\"https://colab.research.google.com/github/DanilaCyganov122/University/blob/main/Extra_Tasks/Ex_task_2.ipynb\" target=\"_parent\"><img src=\"https://colab.research.google.com/assets/colab-badge.svg\" alt=\"Open In Colab\"/></a>"
      ]
    },
    {
      "cell_type": "code",
      "execution_count": 4,
      "metadata": {
        "id": "HpS3A74gevZr",
        "colab": {
          "base_uri": "https://localhost:8080/"
        },
        "outputId": "30b4b501-779d-44f0-da93-631b688b4701"
      },
      "outputs": [
        {
          "name": "stdout",
          "output_type": "stream",
          "text": [
            "Выберите функцию \n",
            " \n",
            " 1.Добавить контакт \n",
            " 2 Удалить контакт \n",
            " 3 Показать список контактов \n",
            " 4 Изменить контакт \n",
            " 5 Выход\n",
            "Введите номер функции: 1\n",
            "Введите название контакта: лера иванова\n",
            "Введите номер телефона: 89241228567\n",
            "Контакт успешно добавлен!\n",
            "Выберите функцию \n",
            " \n",
            " 1.Добавить контакт \n",
            " 2 Удалить контакт \n",
            " 3 Показать список контактов \n",
            " 4 Изменить контакт \n",
            " 5 Выход\n",
            "Введите номер функции: 3\n",
            "Список контактов: \n",
            "Лера Иванова +79241228567\n",
            "Выберите функцию \n",
            " \n",
            " 1.Добавить контакт \n",
            " 2 Удалить контакт \n",
            " 3 Показать список контактов \n",
            " 4 Изменить контакт \n",
            " 5 Выход\n",
            "Введите номер функции: 4\n",
            "Введите название контакта: ЛЕРА ИВАНОВА\n",
            "Введите номер телефона: 9281254356\n",
            "Контакт успешно изменен!\n",
            "Выберите функцию \n",
            " \n",
            " 1.Добавить контакт \n",
            " 2 Удалить контакт \n",
            " 3 Показать список контактов \n",
            " 4 Изменить контакт \n",
            " 5 Выход\n",
            "Введите номер функции: 3\n",
            "Список контактов: \n",
            "Лера Иванова +79281254356\n",
            "Выберите функцию \n",
            " \n",
            " 1.Добавить контакт \n",
            " 2 Удалить контакт \n",
            " 3 Показать список контактов \n",
            " 4 Изменить контакт \n",
            " 5 Выход\n",
            "Введите номер функции: 2\n",
            "Введите название контакта: лера иванова\n",
            "Контакт успешно удален! \n",
            "Выберите функцию \n",
            " \n",
            " 1.Добавить контакт \n",
            " 2 Удалить контакт \n",
            " 3 Показать список контактов \n",
            " 4 Изменить контакт \n",
            " 5 Выход\n",
            "Введите номер функции: 3\n",
            "Список контактов: \n",
            "Выберите функцию \n",
            " \n",
            " 1.Добавить контакт \n",
            " 2 Удалить контакт \n",
            " 3 Показать список контактов \n",
            " 4 Изменить контакт \n",
            " 5 Выход\n",
            "Введите номер функции: 5\n"
          ]
        }
      ],
      "source": [
        "d = dict()\n",
        "def addnumber():\n",
        "  c = input('Введите номер телефона: ')\n",
        "  if len(c) == 10:\n",
        "    c = '+7'+ c\n",
        "  elif len(c) == 11:\n",
        "    c = '+7'+ c[1:]\n",
        "  return c\n",
        "def addname():\n",
        "  n = input('Введите название контакта: ')\n",
        "  n = n.lower().title()\n",
        "  return n\n",
        "def addcontact():\n",
        "  name = addname()\n",
        "  number = addnumber()\n",
        "  d[name] = number\n",
        "  print('Контакт успешно добавлен!')\n",
        "def deletecontact():\n",
        "  n = addname()\n",
        "  del d[n]\n",
        "  print('Контакт успешно удален! ')\n",
        "def showcontact():\n",
        "  n = list(d.items())\n",
        "  print('Список контактов: ')\n",
        "  for i in range(0, len(n)):\n",
        "    print(*n[i])\n",
        "def redactcontact():\n",
        "  n = addname()\n",
        "  q = addnumber()\n",
        "  d[n] = q\n",
        "  print('Контакт успешно изменен!')\n",
        "n:int = 0\n",
        "while(n != 5):\n",
        "  print('Выберите функцию \\n \\n 1.Добавить контакт \\n 2 Удалить контакт \\n 3 Показать список контактов \\n 4 Изменить контакт \\n 5 Выход')\n",
        "  n = int(input('Введите номер функции: '))\n",
        "  if n == 1:\n",
        "    addcontact()\n",
        "  elif n == 2:\n",
        "    deletecontact()\n",
        "  elif n == 3:\n",
        "    showcontact()\n",
        "  elif n == 4:\n",
        "    redactcontact()\n",
        "  elif n == 5:\n",
        "    pass\n",
        "  else:\n",
        "    print('Такого номерв нет')\n",
        "\n",
        "\n"
      ]
    }
  ]
}